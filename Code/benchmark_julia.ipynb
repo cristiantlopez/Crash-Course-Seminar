{
 "cells": [
  {
   "cell_type": "code",
   "execution_count": 1,
   "metadata": {},
   "outputs": [],
   "source": [
    "import pennylane as qml\n",
    "from pennylane import numpy as np"
   ]
  },
  {
   "cell_type": "code",
   "execution_count": 2,
   "metadata": {},
   "outputs": [],
   "source": [
    "N=20\n",
    "layers=5"
   ]
  },
  {
   "cell_type": "code",
   "execution_count": 3,
   "metadata": {},
   "outputs": [],
   "source": [
    "def Ising_Hamiltonian_qml(J,g,N):\n",
    "    '''\n",
    "    Ising Hamiltonian with a transverse field (pennylane notation):\n",
    "    H = J * sum_{i,j} Z^i Z^(i+1) + g * sum_i X^i\n",
    "    ...\n",
    "    Parameters\n",
    "    -------\n",
    "    J : float\n",
    "        Strenght of the interaction.\n",
    "    g : float\n",
    "        Strenght of the transverse magnetic field.\n",
    "    '''\n",
    "    \n",
    "    H = g*qml.PauliZ(N-1) \n",
    "    for i in range(0,N-1):\n",
    "        H = H+ g*qml.PauliZ(i)+J*qml.PauliX(i)@qml.PauliX(i+1)\n",
    "    #H = H + g*qml.PauliX(N-1) + J*qml.PauliZ(N-1)@qml.PauliZ(0)\n",
    "\n",
    "    return H"
   ]
  },
  {
   "cell_type": "code",
   "execution_count": 4,
   "metadata": {},
   "outputs": [],
   "source": [
    "H = Ising_Hamiltonian_qml(-1,1,N)\n",
    "dev = qml.device('lightning.qubit', wires=N)\n",
    "@qml.qnode(dev,diff_method='adjoint')\n",
    "def cost(params):\n",
    "    for layer in range(layers):\n",
    "        for i in range(N):\n",
    "            qml.RY(params[2*layer*N+i],i)\n",
    "        for i in range(int(N/2)):\n",
    "            qml.CZ(wires=[2*i,2*i+1])\n",
    "        for i in range(N):\n",
    "            qml.RY(params[2*layer*N+N+i],i)\n",
    "        for i in range(1,int(N/2)):\n",
    "            qml.CZ(wires=[2*i-1,2*i])\n",
    "        qml.CZ(wires=[N-1,0])\n",
    "        qml.Barrier(range(0,N))\n",
    "    qml.Barrier(range(0,N))\n",
    "    return qml.expval(H)"
   ]
  },
  {
   "cell_type": "code",
   "execution_count": 7,
   "metadata": {},
   "outputs": [],
   "source": [
    "params = 0.01*np.random.random(2*N*layers,requires_grad=True)"
   ]
  },
  {
   "cell_type": "code",
   "execution_count": 8,
   "metadata": {},
   "outputs": [
    {
     "data": {
      "text/plain": [
       "array(19.94941532)"
      ]
     },
     "execution_count": 8,
     "metadata": {},
     "output_type": "execute_result"
    }
   ],
   "source": [
    "cost(params)"
   ]
  },
  {
   "cell_type": "code",
   "execution_count": null,
   "metadata": {},
   "outputs": [],
   "source": []
  }
 ],
 "metadata": {
  "kernelspec": {
   "display_name": "base",
   "language": "python",
   "name": "python3"
  },
  "language_info": {
   "codemirror_mode": {
    "name": "ipython",
    "version": 3
   },
   "file_extension": ".py",
   "mimetype": "text/x-python",
   "name": "python",
   "nbconvert_exporter": "python",
   "pygments_lexer": "ipython3",
   "version": "3.11.5"
  }
 },
 "nbformat": 4,
 "nbformat_minor": 2
}
